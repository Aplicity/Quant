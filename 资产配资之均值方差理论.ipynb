{
 "cells": [
  {
   "cell_type": "code",
   "execution_count": 1,
   "metadata": {},
   "outputs": [],
   "source": [
    "import tushare as ts\n",
    "import numpy as np \n",
    "import pandas as pd \n",
    "import scipy.optimize as optimize\n",
    "import matplotlib.pyplot as plt\n",
    "from statsmodels import api as sm \n"
   ]
  },
  {
   "cell_type": "markdown",
   "metadata": {},
   "source": [
    "\n",
    "# 数据准备"
   ]
  },
  {
   "cell_type": "code",
   "execution_count": 2,
   "metadata": {},
   "outputs": [],
   "source": [
    "token = 'd9c35edffff16c8f0668cc226b492bcf8d4102be94328eca5b884ea0'\n",
    "# 未经允许，以上token禁止商用\n",
    "ts.set_token(token)\n",
    "pro = ts.pro_api()\n",
    "\n",
    "all_stocks = pro.stock_basic() # 获取所有上市公司\n",
    "\n",
    "# 随机选择10支2018年1月1日上市前的股票\n",
    "stocks = all_stocks.query('list_date < \"20180101\"').sample(10, random_state = 1) "
   ]
  },
  {
   "cell_type": "code",
   "execution_count": 3,
   "metadata": {},
   "outputs": [],
   "source": [
    "# 获取每支股票收盘价，并汇总在一起\n",
    "close_df = pd.DataFrame()\n",
    "for ts_code in stocks['ts_code']:\n",
    "    df = ts.pro_bar(ts_code = ts_code, adj='qfq', start_date='20180101')\n",
    "    df = df.set_index('trade_date') # 以交易日期作为表索引\n",
    "    close_df[ts_code] = df['close']\n",
    "    \n",
    "close_df = close_df.sort_index() # 以交易日期排序\n",
    "return_df = close_df.pct_change().dropna() # 计算每一天的涨跌幅\n",
    "\n",
    "risk_free = 0.03  # 无风险利率"
   ]
  },
  {
   "cell_type": "code",
   "execution_count": 4,
   "metadata": {},
   "outputs": [],
   "source": [
    "mean_return = return_df.mean().values # 各个标的平均日回报率 \n",
    "cov_return = return_df.cov().values # 各个标的协方差矩阵\n",
    "# Note: 以上两个变量都为全局变量"
   ]
  },
  {
   "cell_type": "code",
   "execution_count": 5,
   "metadata": {},
   "outputs": [],
   "source": [
    "def get_return_of_portfolio(Ws):\n",
    "    '''\n",
    "    用途：获取组合的期望年回报率\n",
    "    Ws：各个标的投资权重。一维数组形式\n",
    "    mean_return：各资产标的平均日回报率\n",
    "    '''\n",
    "    return Ws @ mean_return * 252\n",
    "\n",
    "def get_variance_of_portfolio(Ws):\n",
    "    '''\n",
    "    用途：获取组合的方差\n",
    "    Ws: 各个标的投资权重\n",
    "    cov_mat: 各个标的协方差矩阵\n",
    "    '''\n",
    "    return Ws.T @ cov_return @ Ws * 252\n",
    "\n",
    "\n",
    "def get_negative_sharpe(Ws):\n",
    "    '''\n",
    "    用途：获取组合的夏普比率负值\n",
    "    Ws: 各个标的投资权重\n",
    "    cov_mat: 各个标的协方差矩阵\n",
    "    '''\n",
    "    R = get_return_of_portfolio(Ws)\n",
    "    Var = get_variance_of_portfolio(Ws)\n",
    "    sharpe = (R - risk_free) / Var**0.5\n",
    "    return -sharpe\n",
    "\n",
    "def get_negative_utility(Ws):\n",
    "    '''\n",
    "    获取组合的负效用值\n",
    "    A : 风险险恶系数\n",
    "    mean_return：各资产标的平均日回报率\n",
    "    cov_mat: 各个标的协方差矩阵\n",
    "    '''\n",
    "    R = get_return_of_portfolio(Ws)\n",
    "    Var = get_variance_of_portfolio(Ws)\n",
    "    U = (R  - 0.5*A*Var)\n",
    "    return -U\n",
    "\n",
    "def get_minimize_variance_portfolio(mean_return, cov_return):\n",
    "    '''\n",
    "    通过公式求取最小方差组合（允许做空）的各个标权重\n",
    "    mean_return：各资产标的平均日回报率\n",
    "    cov_mat: 各个标的协方差矩阵\n",
    "    '''\n",
    "    n = len(mean_return)\n",
    "    e = np.ones(n)\n",
    "    cov_inverse = np.linalg.inv(cov_return)\n",
    "    Ws = (cov_inverse @ e ) / (e.T @ np.linalg.inv(cov_return) @ e)\n",
    "    return Ws\n",
    "\n"
   ]
  },
  {
   "cell_type": "markdown",
   "metadata": {},
   "source": [
    "# 模型一：全风险资产组合（只能做多）\n",
    "## 目标1: 组合风险最小"
   ]
  },
  {
   "cell_type": "code",
   "execution_count": 6,
   "metadata": {},
   "outputs": [
    {
     "name": "stdout",
     "output_type": "stream",
     "text": [
      "组合各个标的权重为: [7.01988385e-02 7.87501775e-02 1.51971784e-01 1.47722546e-18\n",
      " 4.91366847e-02 8.27872751e-02 3.63176356e-01 1.59006418e-01\n",
      " 9.35153191e-03 3.56209341e-02]\n",
      "组合期望年回报率: 0.17050755416728577\n",
      "组合方差： 0.06189341823569909\n",
      "组合夏普比率： 0.5647775690918426\n"
     ]
    }
   ],
   "source": [
    "cons = [{'type':'eq', 'fun':lambda Ws: np.sum(Ws)-1}, # 各个标的权重之和为1\n",
    "        {'type': 'ineq', 'fun': lambda Ws: Ws } ] # 各个标的的权重大于等于0\n",
    "    \n",
    "x0 = np.ones(len(mean_return)) / len(mean_return)\n",
    "res = optimize.minimize(get_variance_of_portfolio, x0, method = 'SLSQP', constraints = cons)\n",
    "\n",
    "if res['success']:\n",
    "    Ws = res['x']\n",
    "    Var = res['fun']\n",
    "    R = get_return_of_portfolio(Ws)\n",
    "    sharpe = -get_negative_sharpe(Ws)\n",
    "    print('组合各个标的权重为:', Ws)\n",
    "    print('组合期望年回报率:',R)\n",
    "    print('组合方差：', Var)\n",
    "    print('组合夏普比率：', sharpe)"
   ]
  },
  {
   "cell_type": "markdown",
   "metadata": {},
   "source": [
    "## 目标2: 最大夏普比率"
   ]
  },
  {
   "cell_type": "code",
   "execution_count": 7,
   "metadata": {},
   "outputs": [
    {
     "name": "stdout",
     "output_type": "stream",
     "text": [
      "组合各个标的权重为: [ 3.70778398e-01  4.47327132e-02  2.17522302e-01 -2.10036167e-16\n",
      "  6.77873182e-02 -5.08793936e-16 -7.44782847e-17  2.99179268e-01\n",
      "  5.55580578e-17 -3.10495053e-17]\n",
      "组合期望年回报率: 0.3763214608627192\n",
      "组合方差： 0.09896946807174363\n",
      "组合夏普比率： 1.1008516221869409\n"
     ]
    }
   ],
   "source": [
    "cons = [{'type':'eq', 'fun':lambda Ws: np.sum(Ws)-1}, # 各个标的权重之和为1\n",
    "        {'type': 'ineq', 'fun': lambda Ws: Ws } ] # 各个标的的权重大于等于0\n",
    "    \n",
    "x0 = np.ones(len(mean_return)) / len(mean_return)\n",
    "res = optimize.minimize(get_negative_sharpe, x0, method = 'SLSQP', constraints = cons)\n",
    "res \n",
    "\n",
    "if res['success']:\n",
    "    Ws = res['x']\n",
    "    Var = get_variance_of_portfolio(Ws)\n",
    "    R = get_return_of_portfolio(Ws)\n",
    "    sharpe = -get_negative_sharpe(Ws)\n",
    "    print('组合各个标的权重为:', Ws)\n",
    "    print('组合期望年回报率:',R)\n",
    "    print('组合方差：', Var)\n",
    "    print('组合夏普比率：', sharpe)"
   ]
  },
  {
   "cell_type": "markdown",
   "metadata": {},
   "source": [
    "# 模型二：全风险资产组合（可做空）"
   ]
  },
  {
   "cell_type": "markdown",
   "metadata": {},
   "source": [
    "## 目标1:组合风险最小"
   ]
  },
  {
   "cell_type": "code",
   "execution_count": 8,
   "metadata": {},
   "outputs": [
    {
     "name": "stdout",
     "output_type": "stream",
     "text": [
      "组合各个标的权重为: [ 0.07126706  0.08017028  0.15267264 -0.022771    0.05247087  0.08353657\n",
      "  0.36781496  0.16176714  0.01298678  0.04008469]\n",
      "组合期望年回报率: 0.174056728496589\n",
      "组合方差： 0.061763999940688416\n",
      "组合夏普比率： 0.5796500008795483\n"
     ]
    }
   ],
   "source": [
    "cons = [{'type':'eq', 'fun':lambda Ws: np.sum(Ws)-1}] # 各个标的权重之和为1\n",
    "    \n",
    "x0 = np.ones(len(mean_return)) / len(mean_return)\n",
    "res = optimize.minimize(get_variance_of_portfolio, x0, method = 'SLSQP', constraints = cons)\n",
    "\n",
    "if res['success']:\n",
    "    Ws = res['x']\n",
    "    Var = res['fun']\n",
    "    R = get_return_of_portfolio(Ws)\n",
    "    sharpe = -get_negative_sharpe(Ws)\n",
    "    print('组合各个标的权重为:', Ws)\n",
    "    print('组合期望年回报率:',R)\n",
    "    print('组合方差：', Var)\n",
    "    print('组合夏普比率：', sharpe)"
   ]
  },
  {
   "cell_type": "markdown",
   "metadata": {},
   "source": [
    "## 目标2:组合夏普比率最大"
   ]
  },
  {
   "cell_type": "code",
   "execution_count": 9,
   "metadata": {},
   "outputs": [
    {
     "name": "stdout",
     "output_type": "stream",
     "text": [
      "组合各个标的权重为: [ 0.78469323  0.2372463   0.54459085 -0.27618637  0.4754204  -0.6274528\n",
      " -0.03576748  0.61117092  0.11144807 -0.82516312]\n",
      "组合期望年回报率: 1.2030427326923383\n",
      "组合方差： 0.502855974564726\n",
      "组合夏普比率： 1.654215272254053\n"
     ]
    }
   ],
   "source": [
    "cons = [{'type':'eq', 'fun':lambda Ws: np.sum(Ws)-1}] # 各个标的权重之和为1\n",
    "    \n",
    "x0 = np.ones(len(mean_return)) / len(mean_return)\n",
    "res = optimize.minimize(get_negative_sharpe, x0, method = 'SLSQP', constraints = cons)\n",
    "\n",
    "if res['success']:\n",
    "    Ws = res['x']\n",
    "    Var = get_variance_of_portfolio(Ws)\n",
    "    R = get_return_of_portfolio(Ws)\n",
    "    sharpe = -get_negative_sharpe(Ws)\n",
    "    print('组合各个标的权重为:', Ws)\n",
    "    print('组合期望年回报率:',R)\n",
    "    print('组合方差：', Var)\n",
    "    print('组合夏普比率：', sharpe)"
   ]
  },
  {
   "cell_type": "markdown",
   "metadata": {},
   "source": [
    "# 模型三：可配置现金的资产组合（只能做多）"
   ]
  },
  {
   "cell_type": "markdown",
   "metadata": {},
   "source": [
    "## 目标1:组合夏普比率最大"
   ]
  },
  {
   "cell_type": "code",
   "execution_count": 10,
   "metadata": {},
   "outputs": [],
   "source": [
    "# 引入无风险资产收益率，重新计算各资产标的平均回报率以及协方差\n",
    "return_df['risk_free'] = risk_free / 252\n",
    "mean_return = return_df.mean().values\n",
    "cov_return = return_df.cov().values"
   ]
  },
  {
   "cell_type": "code",
   "execution_count": 11,
   "metadata": {},
   "outputs": [
    {
     "name": "stdout",
     "output_type": "stream",
     "text": [
      "组合各个标的权重为: [ 3.70757727e-01  4.46666599e-02  2.17363396e-01  2.81424487e-17\n",
      "  6.77905971e-02 -2.98424633e-16 -7.21965717e-17  2.98775066e-01\n",
      "  5.15774159e-18  2.98786786e-16  6.46554664e-04]\n",
      "组合期望年回报率: 0.3761306756314157\n",
      "组合方差： 0.09886048807020294\n",
      "组合夏普比率： 1.1008514403513676\n"
     ]
    }
   ],
   "source": [
    "cons = [{'type':'eq', 'fun':lambda Ws: np.sum(Ws)-1}, # 各个标的权重之和为1\n",
    "        {'type': 'ineq', 'fun': lambda Ws: Ws } ] # 各个标的的权重大于等于0\n",
    "    \n",
    "x0 = np.ones(len(mean_return)) / len(mean_return)\n",
    "res = optimize.minimize(get_negative_sharpe, x0, method = 'SLSQP', constraints = cons)\n",
    "res \n",
    "\n",
    "if res['success']:\n",
    "    Ws = res['x']\n",
    "    Var = get_variance_of_portfolio(Ws)\n",
    "    R = get_return_of_portfolio(Ws)\n",
    "    sharpe = -get_negative_sharpe(Ws)\n",
    "    print('组合各个标的权重为:', Ws)\n",
    "    print('组合期望年回报率:',R)\n",
    "    print('组合方差：', Var)\n",
    "    print('组合夏普比率：', sharpe)\n"
   ]
  },
  {
   "cell_type": "markdown",
   "metadata": {},
   "source": [
    "# 模型三：可配置现金的资产组合（可做空）"
   ]
  },
  {
   "cell_type": "markdown",
   "metadata": {},
   "source": [
    "## 目标1:组合夏普比率最大"
   ]
  },
  {
   "cell_type": "code",
   "execution_count": 12,
   "metadata": {},
   "outputs": [],
   "source": [
    "# 引入无风险资产收益率，重新计算各资产标的平均回报率以及协方差\n",
    "return_df['risk_free'] = risk_free / 252\n",
    "mean_return = return_df.mean().values\n",
    "cov_return = return_df.cov().values\n"
   ]
  },
  {
   "cell_type": "code",
   "execution_count": 13,
   "metadata": {},
   "outputs": [
    {
     "name": "stdout",
     "output_type": "stream",
     "text": [
      "组合各个标的权重为: [ 1.28729408  0.38877179  0.89329776 -0.45333646  0.77928154 -1.02955391\n",
      " -0.05846921  1.00510239  0.18287756 -1.35385115 -0.64141438]\n",
      "组合期望年回报率: 1.9550153078814858\n",
      "组合方差： 1.3542049419466953\n",
      "组合夏普比率： 1.6542151357899018\n"
     ]
    }
   ],
   "source": [
    "cons = [{'type':'eq', 'fun':lambda Ws: np.sum(Ws)-1}] # 各个标的权重之和为1\n",
    "    \n",
    "x0 = np.ones(len(mean_return)) / len(mean_return)\n",
    "res = optimize.minimize(get_negative_sharpe, x0, method = 'SLSQP', constraints = cons)\n",
    "\n",
    "if res['success']:\n",
    "    Ws = res['x']\n",
    "    Var = get_variance_of_portfolio(Ws)\n",
    "    R = get_return_of_portfolio(Ws)\n",
    "    sharpe = -get_negative_sharpe(Ws)\n",
    "    print('组合各个标的权重为:', Ws)\n",
    "    print('组合期望年回报率:',R)\n",
    "    print('组合方差：', Var)\n",
    "    print('组合夏普比率：', sharpe)"
   ]
  },
  {
   "cell_type": "markdown",
   "metadata": {},
   "source": [
    "# 有效前沿-CML-无差异曲线\n",
    "## 有效前沿\n",
    "给定预期回报率，使不含无风险资产组合方差最小"
   ]
  },
  {
   "cell_type": "code",
   "execution_count": 14,
   "metadata": {},
   "outputs": [],
   "source": [
    "return_df = close_df.pct_change().dropna() # 计算每一天的涨跌幅\n",
    "mean_return = return_df.mean().values # 各个标的平均日回报率\n",
    "cov_return = return_df.cov().values # 各个标的协方差矩阵\n",
    "\n",
    "# 在得到期望回报的前提下，最小化投资组合的方差\n",
    "expect_returns = np.linspace(-1 ,2.5,100) # 预期组合回报率\n",
    "variances = []\n",
    "for expect_return in expect_returns:\n",
    "    cons = [{'type':'eq', 'fun':lambda Ws: np.sum(Ws)-1}, # 各个标的权重之和为1\n",
    "            {'type':'eq', 'fun':lambda Ws: get_return_of_portfolio(Ws)-  expect_return}] # 组合回报率等于期望值\n",
    "    \n",
    "    x0 = np.ones(len(mean_return)) / len(mean_return)\n",
    "    res = optimize.minimize(get_variance_of_portfolio, x0, method = 'SLSQP', constraints = cons)\n",
    "    if res['success']:\n",
    "        var = res['fun']\n",
    "        variances.append(var)\n",
    "        \n",
    "stds = np.array(variances)**0.5\n",
    "\n"
   ]
  },
  {
   "cell_type": "markdown",
   "metadata": {},
   "source": [
    "## 最小方差组合"
   ]
  },
  {
   "cell_type": "code",
   "execution_count": 15,
   "metadata": {},
   "outputs": [],
   "source": [
    "return_df = close_df.pct_change().dropna() # 计算每一天的涨跌幅\n",
    "mean_return = return_df.mean().values # 各个标的平均日回报率\n",
    "cov_return = return_df.cov().values # 各个标的协方差矩阵\n",
    "\n",
    "# 最小化投资组合的方差\n",
    "Ws = get_minimize_variance_portfolio(mean_return, cov_return )\n",
    "minimize_var = get_variance_of_portfolio(Ws)\n",
    "minimize_std = minimize_var**0.5\n",
    "expect_return = get_return_of_portfolio(Ws)\n"
   ]
  },
  {
   "cell_type": "markdown",
   "metadata": {},
   "source": [
    "## 最大夏普组合(不配置无风险资产，可做空)"
   ]
  },
  {
   "cell_type": "code",
   "execution_count": 16,
   "metadata": {},
   "outputs": [
    {
     "name": "stdout",
     "output_type": "stream",
     "text": [
      "不配置无风险资产，可做空的组合最大夏普比率: 1.654215272254053\n"
     ]
    }
   ],
   "source": [
    "return_df = close_df.pct_change().dropna() # 计算每一天的涨跌幅\n",
    "mean_return = return_df.mean().values\n",
    "cov_return = return_df.cov().values\n",
    "\n",
    "# 最大化组合夏普比率（引入无风险资产）\n",
    "cons = [{'type':'eq', 'fun':lambda Ws: np.sum(Ws)-1}] # 各个标的权重之和为1\n",
    "x0 = np.ones(len(mean_return)) / len(mean_return)\n",
    "res = optimize.minimize(get_negative_sharpe, x0, method = 'SLSQP', constraints = cons)\n",
    "\n",
    "Ws = res['x']\n",
    "sharpe_return = get_return_of_portfolio(Ws)\n",
    "sharpe_std = get_variance_of_portfolio(Ws)**0.5\n",
    "max_sharpe = -get_negative_sharpe(Ws)\n",
    "\n",
    "print('不配置无风险资产，可做空的组合最大夏普比率:', max_sharpe)"
   ]
  },
  {
   "cell_type": "markdown",
   "metadata": {},
   "source": [
    "## 资本市场线\n",
    "* Capital Market Line \n",
    "\n",
    "给定预期回报率，使含无风险资产组合方差最小(夏普比率最大)\n",
    "\n",
    "$E(r) = r_f + \\sigma  \\times \\frac{E(r_s) - r_f}{\\sigma_s}$"
   ]
  },
  {
   "cell_type": "code",
   "execution_count": 17,
   "metadata": {},
   "outputs": [],
   "source": [
    "return_df = close_df.pct_change().dropna() # 计算每一天的涨跌幅\n",
    "\n",
    "# 引入无风险资产收益率，重新计算各资产标的平均回报率以及协方差\n",
    "return_df['risk_free'] = risk_free / 252\n",
    "mean_return = return_df.mean().values\n",
    "cov_return = return_df.cov().values\n",
    "\n",
    "CML_std = []\n",
    "CML_return = np.linspace(risk_free,2.5, 100)\n",
    "for r in CML_return:\n",
    "    cons = [{'type':'eq', 'fun':lambda Ws: np.sum(Ws)-1}, # 各个标的权重之和为1\n",
    "            {'type':'eq', 'fun':lambda Ws: get_return_of_portfolio(Ws)-  r}] # 组合收益等于期望值\n",
    "    \n",
    "    x0 = np.ones(len(mean_return)) / len(mean_return)\n",
    "    res = optimize.minimize(get_variance_of_portfolio, x0, method = 'SLSQP', constraints = cons)\n",
    "    if res['success']:\n",
    "        Ws = res['x']\n",
    "        r = get_return_of_portfolio(Ws)\n",
    "        var = get_variance_of_portfolio(Ws)\n",
    "        CML_std.append(var**0.5)\n"
   ]
  },
  {
   "cell_type": "code",
   "execution_count": 18,
   "metadata": {},
   "outputs": [
    {
     "data": {
      "text/html": [
       "<table class=\"simpletable\">\n",
       "<tr>\n",
       "        <td>Model:</td>               <td>OLS</td>         <td>Adj. R-squared:</td>      <td>1.000</td>  \n",
       "</tr>\n",
       "<tr>\n",
       "  <td>Dependent Variable:</td>         <td>y</td>               <td>AIC:</td>         <td>-1598.6909</td>\n",
       "</tr>\n",
       "<tr>\n",
       "         <td>Date:</td>        <td>2021-01-31 12:19</td>        <td>BIC:</td>         <td>-1593.4805</td>\n",
       "</tr>\n",
       "<tr>\n",
       "   <td>No. Observations:</td>         <td>100</td>         <td>Log-Likelihood:</td>     <td>801.35</td>  \n",
       "</tr>\n",
       "<tr>\n",
       "       <td>Df Model:</td>              <td>1</td>           <td>F-statistic:</td>      <td>7.925e+09</td>\n",
       "</tr>\n",
       "<tr>\n",
       "     <td>Df Residuals:</td>           <td>98</td>        <td>Prob (F-statistic):</td>    <td>0.00</td>   \n",
       "</tr>\n",
       "<tr>\n",
       "      <td>R-squared:</td>            <td>1.000</td>            <td>Scale:</td>        <td>6.5449e-09</td>\n",
       "</tr>\n",
       "</table>\n",
       "<table class=\"simpletable\">\n",
       "<tr>\n",
       "    <td></td>     <th>Coef.</th> <th>Std.Err.</th>      <th>t</th>      <th>P>|t|</th> <th>[0.025</th> <th>0.975]</th>\n",
       "</tr>\n",
       "<tr>\n",
       "  <th>const</th> <td>0.0300</td>  <td>0.0000</td>   <td>1865.7969</td> <td>0.0000</td> <td>0.0299</td> <td>0.0300</td>\n",
       "</tr>\n",
       "<tr>\n",
       "  <th>x1</th>    <td>1.6543</td>  <td>0.0000</td>  <td>89022.2731</td> <td>0.0000</td> <td>1.6542</td> <td>1.6543</td>\n",
       "</tr>\n",
       "</table>\n",
       "<table class=\"simpletable\">\n",
       "<tr>\n",
       "     <td>Omnibus:</td>    <td>210.656</td>  <td>Durbin-Watson:</td>     <td>1.011</td>  \n",
       "</tr>\n",
       "<tr>\n",
       "  <td>Prob(Omnibus):</td>  <td>0.000</td>  <td>Jarque-Bera (JB):</td> <td>34638.321</td>\n",
       "</tr>\n",
       "<tr>\n",
       "       <td>Skew:</td>     <td>-9.401</td>      <td>Prob(JB):</td>       <td>0.000</td>  \n",
       "</tr>\n",
       "<tr>\n",
       "     <td>Kurtosis:</td>   <td>92.217</td>   <td>Condition No.:</td>       <td>4</td>    \n",
       "</tr>\n",
       "</table>"
      ],
      "text/plain": [
       "<class 'statsmodels.iolib.summary2.Summary'>\n",
       "\"\"\"\n",
       "                  Results: Ordinary least squares\n",
       "===================================================================\n",
       "Model:              OLS              Adj. R-squared:     1.000     \n",
       "Dependent Variable: y                AIC:                -1598.6909\n",
       "Date:               2021-01-31 12:19 BIC:                -1593.4805\n",
       "No. Observations:   100              Log-Likelihood:     801.35    \n",
       "Df Model:           1                F-statistic:        7.925e+09 \n",
       "Df Residuals:       98               Prob (F-statistic): 0.00      \n",
       "R-squared:          1.000            Scale:              6.5449e-09\n",
       "---------------------------------------------------------------------\n",
       "            Coef.    Std.Err.       t        P>|t|    [0.025   0.975]\n",
       "---------------------------------------------------------------------\n",
       "const       0.0300     0.0000    1865.7969   0.0000   0.0299   0.0300\n",
       "x1          1.6543     0.0000   89022.2731   0.0000   1.6542   1.6543\n",
       "-------------------------------------------------------------------\n",
       "Omnibus:              210.656      Durbin-Watson:         1.011    \n",
       "Prob(Omnibus):        0.000        Jarque-Bera (JB):      34638.321\n",
       "Skew:                 -9.401       Prob(JB):              0.000    \n",
       "Kurtosis:             92.217       Condition No.:         4        \n",
       "===================================================================\n",
       "\n",
       "\"\"\""
      ]
     },
     "execution_count": 18,
     "metadata": {},
     "output_type": "execute_result"
    }
   ],
   "source": [
    "# 以组合标准差为自变量，组合期望回报率为因变量，作回归。\n",
    "# 验证CML，理论回归截距等于无风险理论，回归斜率等于 最大夏普比率（不配备无风险资产、可做空）\n",
    "X = sm.add_constant(CML_std) # 对x添加常数项\n",
    "model = sm.OLS( CML_return, X) # 最小二乘回归\n",
    "res = model.fit()\n",
    "res.summary2()\n"
   ]
  },
  {
   "cell_type": "markdown",
   "metadata": {},
   "source": [
    "## 各个单一资产标的回报率、标准差、夏普比率"
   ]
  },
  {
   "cell_type": "code",
   "execution_count": 19,
   "metadata": {},
   "outputs": [],
   "source": [
    "return_df = close_df.pct_change().dropna() # 计算每一天的涨跌幅\n",
    "mean_return = return_df.mean().values # 各个标的平均日回报率\n",
    "cov_return = return_df.cov().values # 各个标的协方差矩阵\n",
    "std_return = return_df.std().values # 各个标的回报标准差\n",
    "sharpes =  (mean_return*252 - risk_free) / std_return*np.sqrt(252) # 各个标的夏普比率"
   ]
  },
  {
   "cell_type": "markdown",
   "metadata": {},
   "source": [
    "## 可视化"
   ]
  },
  {
   "cell_type": "code",
   "execution_count": 26,
   "metadata": {},
   "outputs": [
    {
     "data": {
      "image/png": "[encoded data removed]",
      "text/plain": [
       "<Figure size 864x504 with 2 Axes>"
      ]
     },
     "metadata": {
      "needs_background": "light"
     },
     "output_type": "display_data"
    }
   ],
   "source": [
    "plt.figure(figsize = (12,7))\n",
    "plt.plot(stds, expect_returns, label = 'Efficient Frontier')\n",
    "\n",
    "plt.plot(CML_std, CML_return, label = 'CML' )\n",
    "\n",
    "plt.scatter(std_return*np.sqrt(252), mean_return*252, c  = sharpes, \n",
    "             cmap='RdYlGn', edgecolors='black', label = 'Individual assets' )\n",
    "\n",
    "plt.scatter(minimize_std, expect_return,  marker = '*', s = 80,\n",
    "            color = 'red' ,label = 'Minimum variance')\n",
    "\n",
    "plt.scatter(sharpe_std, sharpe_return, marker = 's', s = 50,\n",
    "             color  = 'green',  label = 'Maximun sharpe' )\n",
    "\n",
    "# 无差异曲线\n",
    "A = 1 # 假定投资者的风险险恶系数为1\n",
    "Indifference_return = np.linspace(risk_free, 1, 100 ) \n",
    "Indifference_std = np.linspace(0, 1, 100 ) # 给定组合标准差为为0利率到1之间\n",
    "Indifference_var = Indifference_std**2\n",
    "\n",
    "for U in np.linspace(0.1, 1, 4): # 效用从0.1 到 1\n",
    "    Indifference_return = U - 0.5 * A * Indifference_var\n",
    "    plt.plot(Indifference_std, Indifference_return, \n",
    "             label = 'Indifference Curve - U = {}'.format(U), alpha = 0.2)\n",
    "    plt.text(Indifference_std[-1], Indifference_return[-1], 'U = {}'.format(U))\n",
    "\n",
    "plt.xlabel('Std', fontsize = 14)\n",
    "plt.ylabel('Return', fontsize = 14)\n",
    "plt.legend(loc = 'upper left')\n",
    "plt.colorbar()\n",
    "plt.show()"
   ]
  }
 ],
 "metadata": {
  "kernelspec": {
   "display_name": "Python 3",
   "language": "python",
   "name": "python3"
  },
  "language_info": {
   "codemirror_mode": {
    "name": "ipython",
    "version": 3
   },
   "file_extension": ".py",
   "mimetype": "text/x-python",
   "name": "python",
   "nbconvert_exporter": "python",
   "pygments_lexer": "ipython3",
   "version": "3.8.3"
  },
  "toc": {
   "base_numbering": 1,
   "nav_menu": {},
   "number_sections": true,
   "sideBar": true,
   "skip_h1_title": false,
   "title_cell": "Table of Contents",
   "title_sidebar": "Contents",
   "toc_cell": false,
   "toc_position": {
    "height": "calc(100% - 180px)",
    "left": "10px",
    "top": "150px",
    "width": "288px"
   },
   "toc_section_display": true,
   "toc_window_display": false
  },
  "varInspector": {
   "cols": {
    "lenName": 16,
    "lenType": 16,
    "lenVar": 40
   },
   "kernels_config": {
    "python": {
     "delete_cmd_postfix": "",
     "delete_cmd_prefix": "del ",
     "library": "var_list.py",
     "varRefreshCmd": "print(var_dic_list())"
    },
    "r": {
     "delete_cmd_postfix": ") ",
     "delete_cmd_prefix": "rm(",
     "library": "var_list.r",
     "varRefreshCmd": "cat(var_dic_list()) "
    }
   },
   "types_to_exclude": [
    "module",
    "function",
    "builtin_function_or_method",
    "instance",
    "_Feature"
   ],
   "window_display": false
  }
 },
 "nbformat": 4,
 "nbformat_minor": 4
}
